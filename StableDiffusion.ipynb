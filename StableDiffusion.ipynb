{
 "cells": [
  {
   "cell_type": "code",
   "execution_count": null,
   "id": "6d0c582d",
   "metadata": {},
   "outputs": [],
   "source": [
    "# load libraries\n",
    "from keras_cv.models import StableDiffusion\n",
    "from PIL import Image\n",
    "import matplotlib.image"
   ]
  },
  {
   "cell_type": "code",
   "execution_count": null,
   "id": "a76e445a",
   "metadata": {},
   "outputs": [],
   "source": [
    "# create StableDiffusion object\n",
    "model = StableDiffusion()"
   ]
  },
  {
   "cell_type": "code",
   "execution_count": null,
   "id": "4228c5ac",
   "metadata": {},
   "outputs": [],
   "source": [
    "# generate image\n",
    "img = model.text_to_image(\"produce a real world Artificial intelligence\")"
   ]
  },
  {
   "cell_type": "code",
   "execution_count": null,
   "id": "64ffdbf7",
   "metadata": {},
   "outputs": [],
   "source": [
    "# save image\n",
    "matplotlib.image.imsave('demo.png', img[0])"
   ]
  }
 ],
 "metadata": {
  "kernelspec": {
   "display_name": "Python 3 (ipykernel)",
   "language": "python",
   "name": "python3"
  },
  "language_info": {
   "codemirror_mode": {
    "name": "ipython",
    "version": 3
   },
   "file_extension": ".py",
   "mimetype": "text/x-python",
   "name": "python",
   "nbconvert_exporter": "python",
   "pygments_lexer": "ipython3",
   "version": "3.9.13"
  }
 },
 "nbformat": 4,
 "nbformat_minor": 5
}
